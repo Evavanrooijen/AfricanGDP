{
  "nbformat": 4,
  "nbformat_minor": 0,
  "metadata": {
    "colab": {
      "name": "Simple Working File",
      "provenance": [],
      "collapsed_sections": [
        "dCf-aZYAcNvK",
        "gMJ0M6iWp7Ui"
      ],
      "toc_visible": true,
      "include_colab_link": true
    },
    "kernelspec": {
      "name": "python3",
      "display_name": "Python 3"
    },
    "accelerator": "GPU"
  },
  "cells": [
    {
      "cell_type": "markdown",
      "metadata": {
        "id": "view-in-github",
        "colab_type": "text"
      },
      "source": [
        "<a href=\"https://colab.research.google.com/github/Evavanrooijen/AfricanGDP/blob/master/Simple_Working_File.ipynb\" target=\"_parent\"><img src=\"https://colab.research.google.com/assets/colab-badge.svg\" alt=\"Open In Colab\"/></a>"
      ]
    },
    {
      "cell_type": "code",
      "metadata": {
        "id": "6bgFPyo4phOW",
        "colab_type": "code",
        "outputId": "79255794-1c04-499c-e81b-228b0aa4c71c",
        "colab": {
          "base_uri": "https://localhost:8080/",
          "height": 453
        }
      },
      "source": [
        "! pip install lmfit"
      ],
      "execution_count": 1,
      "outputs": [
        {
          "output_type": "stream",
          "text": [
            "Collecting lmfit\n",
            "\u001b[?25l  Downloading https://files.pythonhosted.org/packages/82/99/e7cc83cb946955232477554248e86cb43691d8dd30be1d6ac70d64c202d3/lmfit-1.0.0.tar.gz (258kB)\n",
            "\u001b[K     |████████████████████████████████| 266kB 7.7MB/s \n",
            "\u001b[?25hCollecting asteval>=0.9.16\n",
            "\u001b[?25l  Downloading https://files.pythonhosted.org/packages/e4/3b/8aaee90977588fa3e88d7a495af306d6f4a1c1c01c8f0fe0de1fc43d0908/asteval-0.9.18.tar.gz (52kB)\n",
            "\u001b[K     |████████████████████████████████| 61kB 10.0MB/s \n",
            "\u001b[?25hRequirement already satisfied: numpy>=1.16 in /usr/local/lib/python3.6/dist-packages (from lmfit) (1.18.2)\n",
            "Requirement already satisfied: scipy>=1.2 in /usr/local/lib/python3.6/dist-packages (from lmfit) (1.4.1)\n",
            "Collecting uncertainties>=3.0.1\n",
            "\u001b[?25l  Downloading https://files.pythonhosted.org/packages/2a/c2/babbe5b16141859dd799ed31c03987100a7b6d0ca7c0ed4429c96ce60fdf/uncertainties-3.1.2.tar.gz (232kB)\n",
            "\u001b[K     |████████████████████████████████| 235kB 15.3MB/s \n",
            "\u001b[?25hBuilding wheels for collected packages: lmfit, asteval, uncertainties\n",
            "  Building wheel for lmfit (setup.py) ... \u001b[?25l\u001b[?25hdone\n",
            "  Created wheel for lmfit: filename=lmfit-1.0.0-cp36-none-any.whl size=87917 sha256=4f4b7fa38a20542517875478b763d49407f30a4e677c36d9f62cbea72aff951b\n",
            "  Stored in directory: /root/.cache/pip/wheels/1f/93/e9/8d3f759e466f5bbfed3ba1d7dc5b3d4389c469a1ec9a2acaee\n",
            "  Building wheel for asteval (setup.py) ... \u001b[?25l\u001b[?25hdone\n",
            "  Created wheel for asteval: filename=asteval-0.9.18-cp36-none-any.whl size=17381 sha256=134e21b9557897b9183eaa9d42a55b5985c423cfe11b59ffd1b84d191c273f74\n",
            "  Stored in directory: /root/.cache/pip/wheels/1c/53/1b/28d929700c9633b1786a4982e6db564ec8326a8930234dcc19\n",
            "  Building wheel for uncertainties (setup.py) ... \u001b[?25l\u001b[?25hdone\n",
            "  Created wheel for uncertainties: filename=uncertainties-3.1.2-cp36-none-any.whl size=96457 sha256=25215d07209f300dbe620071249b2e5ef539b81ad7979edc85e015b4c3de1810\n",
            "  Stored in directory: /root/.cache/pip/wheels/d9/d3/0e/5b0b743a8abd50373705427438456da5dc2621891138d7a618\n",
            "Successfully built lmfit asteval uncertainties\n",
            "Installing collected packages: asteval, uncertainties, lmfit\n",
            "Successfully installed asteval-0.9.18 lmfit-1.0.0 uncertainties-3.1.2\n"
          ],
          "name": "stdout"
        }
      ]
    },
    {
      "cell_type": "code",
      "metadata": {
        "id": "H7fMrmdZMFxv",
        "colab_type": "code",
        "colab": {
          "base_uri": "https://localhost:8080/",
          "height": 72
        },
        "outputId": "1aa4d32a-6f4d-497c-f8bd-74c5e80a8dce"
      },
      "source": [
        "import numpy as np\n",
        "import pandas as pd\n",
        "from math import sqrt\n",
        "\n",
        "import matplotlib.pyplot as plt\n",
        "\n",
        "import statsmodels.api as sm\n",
        "import statsmodels.stats as stats\n",
        "from scipy.stats import pearsonr\n",
        "from lmfit import Parameters, minimize, Model # package to apply NLS\n",
        "from statsmodels.tsa.arima_model import ARIMA"
      ],
      "execution_count": 2,
      "outputs": [
        {
          "output_type": "stream",
          "text": [
            "/usr/local/lib/python3.6/dist-packages/statsmodels/tools/_testing.py:19: FutureWarning: pandas.util.testing is deprecated. Use the functions in the public API at pandas.testing instead.\n",
            "  import pandas.util.testing as tm\n"
          ],
          "name": "stderr"
        }
      ]
    },
    {
      "cell_type": "markdown",
      "metadata": {
        "id": "v42yz-8_F0Zp",
        "colab_type": "text"
      },
      "source": [
        "# Forecasting real GDP growth for Africa\n",
        "## Missing Modules\n",
        "- load African Data\n",
        "\n",
        "Potential modules\n",
        "\n",
        "\n",
        "  *   run_simulation.py\n",
        "* for 100 times per DGP specification: \n",
        "* estimate both models\n",
        "* compare RMSPE\n",
        "* create table\n",
        "* export table\n",
        "\n",
        "  *   model.py\n",
        "* gather input: JH, CRDW, pos, neg\n",
        "* estimate model\n",
        "* rolling forecast\n",
        "* forecast benchmark\n",
        "\n",
        "  *   data.py\n",
        "* simulate(N, T, alp, var)\n",
        "* load and preprocess: test if right format for model estimation\n",
        "* Y_growth\n"
      ]
    },
    {
      "cell_type": "markdown",
      "metadata": {
        "id": "uY3f8X2lF9mP",
        "colab_type": "text"
      },
      "source": [
        "### Simulate Data\n",
        "Create N different time series of length T"
      ]
    },
    {
      "cell_type": "code",
      "metadata": {
        "id": "jVqOLpVducSL",
        "colab_type": "code",
        "colab": {}
      },
      "source": [
        "# set seed for reproducibility\n",
        "np.random.seed(1)"
      ],
      "execution_count": 0,
      "outputs": []
    },
    {
      "cell_type": "code",
      "metadata": {
        "id": "79SxpOkSm3MN",
        "colab_type": "code",
        "colab": {}
      },
      "source": [
        "def growth_rate(x, steps=1):\n",
        "  return x[steps:]-x[:-steps]"
      ],
      "execution_count": 0,
      "outputs": []
    },
    {
      "cell_type": "code",
      "metadata": {
        "id": "i4p1tjMCFuDS",
        "colab_type": "code",
        "colab": {}
      },
      "source": [
        "def create_DGP(N, T, alpha, var_eps):\n",
        "  # Function that takes all necessary parameters and returns a simulated dataset [NxT]\n",
        "  Y=np.random.rand(N, T)\n",
        "  for i in range(N):\n",
        "    Y[i, 0]=0\n",
        "    theta = np.random.uniform(1, alpha, 1)\n",
        "    for t in range(1, T):\n",
        "      epsilon = np.random.normal(0, sqrt(var_eps), 1)\n",
        "      Y[i, t]=theta+Y[i, t-1]+epsilon\n",
        "  Y_growth = np.vstack([growth_rate(row) for row in Y])\n",
        "  return Y, Y_growth"
      ],
      "execution_count": 0,
      "outputs": []
    },
    {
      "cell_type": "code",
      "metadata": {
        "id": "P4WJ-z4_KQus",
        "colab_type": "code",
        "colab": {}
      },
      "source": [
        "N = 50\n",
        "T = 100\n",
        "alpha = 1\n",
        "var_eps = 0.5\n",
        "\n",
        "Y, Y_growth  = create_DGP(N, T, alpha, var_eps)"
      ],
      "execution_count": 0,
      "outputs": []
    },
    {
      "cell_type": "code",
      "metadata": {
        "id": "RZ7P-w4WxZIc",
        "colab_type": "code",
        "outputId": "71e40a43-8bf2-4b46-eee8-eb3f04a90114",
        "colab": {
          "base_uri": "https://localhost:8080/",
          "height": 232
        }
      },
      "source": [
        "fig, axes = plt.subplots(nrows=1, ncols=2, figsize=(10, 3))\n",
        "fig.suptitle('Country 0: level and growth')\n",
        "axes[0].plot(Y[0])\n",
        "axes[0].set_title('GDP Level')\n",
        "axes[0].set_xlabel('t')\n",
        "axes[1].plot(Y_growth[0])\n",
        "axes[1].set_title('GDP Growth')\n",
        "axes[1].set_xlabel('t')\n",
        "fig.tight_layout()"
      ],
      "execution_count": 0,
      "outputs": [
        {
          "output_type": "display_data",
          "data": {
            "image/png": "[encoded data removed]",
            "text/plain": [
              "<Figure size 720x216 with 2 Axes>"
            ]
          },
          "metadata": {
            "tags": []
          }
        }
      ]
    },
    {
      "cell_type": "code",
      "metadata": {
        "id": "_Uw94zJ9x3aF",
        "colab_type": "code",
        "outputId": "56be070e-2819-4b9b-db28-dec755a0404d",
        "colab": {
          "base_uri": "https://localhost:8080/",
          "height": 232
        }
      },
      "source": [
        "fig, axes = plt.subplots(nrows=1, ncols=2, figsize=(10, 3))\n",
        "fig.suptitle('Average level and growth')\n",
        "axes[0].plot(np.mean(Y, axis=0))\n",
        "axes[0].set_title('GDP Level')\n",
        "axes[0].set_xlabel('t')\n",
        "axes[1].plot(np.mean(Y_growth, axis=0))\n",
        "axes[1].set_title('GDP Growth')\n",
        "axes[1].set_xlabel('t')\n",
        "fig.tight_layout()"
      ],
      "execution_count": 0,
      "outputs": [
        {
          "output_type": "display_data",
          "data": {
            "image/png": "[encoded data removed]",
            "text/plain": [
              "<Figure size 720x216 with 2 Axes>"
            ]
          },
          "metadata": {
            "tags": []
          }
        }
      ]
    },
    {
      "cell_type": "code",
      "metadata": {
        "id": "ABIdhp08x73l",
        "colab_type": "code",
        "colab": {}
      },
      "source": [
        "# unit tests for simulating DGP\n",
        "assert np.mean(Y, axis = 0)[0] == 0 # start time series 0 at t=0\n",
        "assert round(np.mean(Y_growth)) == (alpha+1)/2"
      ],
      "execution_count": 0,
      "outputs": []
    },
    {
      "cell_type": "markdown",
      "metadata": {
        "id": "k9KjOgkra6lm",
        "colab_type": "text"
      },
      "source": [
        "### Split Sample"
      ]
    },
    {
      "cell_type": "markdown",
      "metadata": {
        "id": "Sg2-_ttYHu12",
        "colab_type": "text"
      },
      "source": [
        "Split the sample T into T1 and T2  with T1=aT2, with a=1, 2, 5 or 10 "
      ]
    },
    {
      "cell_type": "code",
      "metadata": {
        "id": "StfLE487Htyl",
        "colab_type": "code",
        "colab": {}
      },
      "source": [
        "a = 1\n",
        "\n",
        "T1_size = int((T*a)/(1+a))  \n",
        "\n",
        "T1 = Y[:, 0:(T1_size)] # Rounding when casting float to int\n",
        "T2 = Y[:, (T1_size):T]"
      ],
      "execution_count": 0,
      "outputs": []
    },
    {
      "cell_type": "code",
      "metadata": {
        "id": "-TOqEnUn0Z8i",
        "colab_type": "code",
        "colab": {}
      },
      "source": [
        "np.mean(Y, axis=0)[T1_size:].shape"
      ],
      "execution_count": 0,
      "outputs": []
    },
    {
      "cell_type": "code",
      "metadata": {
        "id": "87IVqaRi0NfJ",
        "colab_type": "code",
        "colab": {}
      },
      "source": [
        "fig, axes = plt.subplots(nrows=2, ncols=2, figsize=(10, 5))\n",
        "fig.suptitle('Test and train timeline')\n",
        "axes[0, 0].plot(np.mean(Y, axis=0)[:T1_size])\n",
        "axes[0, 0].set_title('Average GDP Level: train')\n",
        "axes[0, 0].set_xlabel('train')\n",
        "axes[1, 0].plot(np.mean(Y_growth, axis=0)[:T1_size])\n",
        "axes[1, 0].set_title('Average GDP Growth: test')\n",
        "axes[1, 0].set_xlabel('train')\n",
        "axes[0, 1].plot(np.mean(Y, axis=0)[T1_size:])\n",
        "axes[0, 1].set_title('Average GDP Level: test')\n",
        "axes[0, 1].set_xlabel('test')\n",
        "axes[1, 1].plot(np.mean(Y_growth, axis=0)[:T1_size])\n",
        "axes[1, 1].set_title('Average GDP Growth: test')\n",
        "axes[1, 1].set_xlabel('test')\n",
        "\n",
        "fig.tight_layout()"
      ],
      "execution_count": 0,
      "outputs": []
    },
    {
      "cell_type": "code",
      "metadata": {
        "id": "REDnHU3b2Gor",
        "colab_type": "code",
        "colab": {}
      },
      "source": [
        "# unit tests\n",
        "mean_train_growth = round(np.mean(np.mean(Y_growth, axis=0)[:T1_size]))\n",
        "mean_test_growth = round(np.mean(np.mean(Y_growth, axis=0)[T1_size:]))\n",
        "assert mean_test_growth == mean_train_growth"
      ],
      "execution_count": 0,
      "outputs": []
    },
    {
      "cell_type": "markdown",
      "metadata": {
        "id": "xFWLbgQCqDMk",
        "colab_type": "text"
      },
      "source": [
        "## Model Building \n"
      ]
    },
    {
      "cell_type": "markdown",
      "metadata": {
        "id": "S_cxr4b-UhSP",
        "colab_type": "text"
      },
      "source": [
        "### v Step 1: CRDW Test\n",
        "y(i, t)= theta(i) + y(j, t) + w(j, t)\n",
        "for j=1,..., I and j unequal to i. \n",
        "\n",
        "Compute residuals w(j, t) and create Cointegration Regression Durbin Watson (CRDW) test statistic as CRDW(j)=2(1-roh(j)) where roh is estimated first order autocorrelation of estimated residuals w(j).\n",
        "\n",
        "Save regressor y(j, t) where CRDW(j)> tao for next round"
      ]
    },
    {
      "cell_type": "code",
      "metadata": {
        "id": "ZXbcokO4yOqZ",
        "colab_type": "code",
        "colab": {}
      },
      "source": [
        "def CRDW(i, tao=0.4):\n",
        "  \"\"\"This function tests for cointegration\n",
        "      Args:\n",
        "        i (int): index of the country we are modeling\n",
        "        tao (float): critical value (default = 0.4)\n",
        "\n",
        "      Returns:\n",
        "        JH (array): An array with the regressors (incl. self)\n",
        "\n",
        "  \"\"\"\n",
        "\n",
        "  JH=Y[i][1:]\n",
        "  for j in range(N):\n",
        "      if j!=i:\n",
        "        y = Y[i]\n",
        "        x = Y[j]\n",
        "        x = sm.add_constant(x)\n",
        "\n",
        "        model = sm.OLS(y, x)\n",
        "        results = model.fit()\n",
        "        CRDW_j = stats.stattools.durbin_watson(results.resid)\n",
        "        if CRDW_j > tao:\n",
        "          JH = np.vstack((JH, Y[j][1:]))\n",
        "  assert JH.shape[0]>0 # test if JH contains atleast self\n",
        "  return JH"
      ],
      "execution_count": 0,
      "outputs": []
    },
    {
      "cell_type": "markdown",
      "metadata": {
        "id": "gMJ0M6iWp7Ui",
        "colab_type": "text"
      },
      "source": [
        "### x Step 2: Estimate Cointegration\n",
        "\n",
        "create matrices with groeivoet, level\n",
        "calculate S00 S11 S01 S10\n",
        "calculate eigenvalues\n",
        "first eigenvalue-> eigenvector is beta for cointegration relation"
      ]
    },
    {
      "cell_type": "code",
      "metadata": {
        "id": "ovJZJgj1Ovmm",
        "colab_type": "code",
        "colab": {}
      },
      "source": [
        ""
      ],
      "execution_count": 0,
      "outputs": []
    },
    {
      "cell_type": "code",
      "metadata": {
        "id": "vKfgLKHd77wo",
        "colab_type": "code",
        "colab": {}
      },
      "source": [
        "def cointegration(JH_i):\n",
        "    \"\"\"Johansen estimation for cointegration between two time series\n",
        "    Args:\n",
        "        JH_i (array): output of CRDW test\n",
        "\n",
        "    Returns:\n",
        "        beta (array): eigenvector\n",
        "\n",
        "    \"\"\"\n",
        "    S11 = np.cov(JH_i)\n",
        "    S01 = np.cov(np.vstack([growth_rate(JH_i[0]), JH_i[1][1:]]))\n",
        "    S10 = np.cov(np.vstack([JH_i[0][1:], growth_rate(JH_i[1])]))\n",
        "    S00 = np.cov(np.vstack([ growth_rate(row) for row in JH_i ]))\n",
        "\n",
        "    beta = np.linalg.eigh(S11-S10.dot(np.linalg.inv(S00)).dot(S01))[1][:, 0]\n",
        "    return beta"
      ],
      "execution_count": 0,
      "outputs": []
    },
    {
      "cell_type": "code",
      "metadata": {
        "id": "X5XgPTVp5Xi8",
        "colab_type": "code",
        "colab": {}
      },
      "source": [
        "# beta = cointegration(CRDW(0))"
      ],
      "execution_count": 0,
      "outputs": []
    },
    {
      "cell_type": "markdown",
      "metadata": {
        "id": "MPLNb06Lp_TZ",
        "colab_type": "text"
      },
      "source": [
        "### v Step 3: Rank Correlations\n",
        "\n"
      ]
    },
    {
      "cell_type": "code",
      "metadata": {
        "id": "sPTDhG-e7ozq",
        "colab_type": "code",
        "colab": {}
      },
      "source": [
        "def max_min_correlations(i, kn=4, kp=4):\n",
        "    \"\"\"Feature selection based on pairwise correlation\n",
        "    Args:\n",
        "        i (int): index of the country we are modeling\n",
        "        tao (float): critical value (default = 0.4)\n",
        "\n",
        "    Returns:\n",
        "        JH (array): An array with the regressors (incl. self)\n",
        "\n",
        "    \"\"\"\n",
        "    corr_i = np.zeros(N)\n",
        "    for j in range(N):\n",
        "      corr_i[j] = pearsonr(Y_growth[i], Y_growth[j])[0]\n",
        "    \n",
        "    pos = Y_growth[np.argpartition(corr_i, -(kp+1))[-(kp+1):-1]]\n",
        "    #pos = Y_growth[corr_i.argsort()[(kp+1):-1]]\n",
        "    assert pos.shape == (kp, T-1)\n",
        "    neg = Y_growth[corr_i.argsort()[:kn]]\n",
        "    assert neg.shape == (kn, T-1)\n",
        "    #neg = Y_growth[np.argpartition(correlation(7), -5)[-5:-1]]\n",
        "    return pos, neg"
      ],
      "execution_count": 0,
      "outputs": []
    },
    {
      "cell_type": "code",
      "metadata": {
        "id": "Pky46vEj6qS7",
        "colab_type": "code",
        "colab": {
          "base_uri": "https://localhost:8080/",
          "height": 289
        },
        "outputId": "c10bc5e4-b46f-4c66-b722-1a599a5edaf2"
      },
      "source": [
        "N = 50\n",
        "corr = np.ones([N, N])\n",
        "for i in range(N):\n",
        "  for j in range(N):\n",
        "    corr[i, j] = pearsonr(Y_growth[i], Y_growth[j])[0]\n",
        "\n",
        "import seaborn as sns\n",
        "sns.heatmap(corr)"
      ],
      "execution_count": 13,
      "outputs": [
        {
          "output_type": "execute_result",
          "data": {
            "text/plain": [
              "<matplotlib.axes._subplots.AxesSubplot at 0x7f5e4f8d9860>"
            ]
          },
          "metadata": {
            "tags": []
          },
          "execution_count": 13
        },
        {
          "output_type": "display_data",
          "data": {
            "image/png": "[encoded data removed]",
            "text/plain": [
              "<Figure size 432x288 with 2 Axes>"
            ]
          },
          "metadata": {
            "tags": []
          }
        }
      ]
    },
    {
      "cell_type": "code",
      "metadata": {
        "id": "PWBG9zMQ89b3",
        "colab_type": "code",
        "colab": {
          "base_uri": "https://localhost:8080/",
          "height": 283
        },
        "outputId": "ea9d1360-99af-4413-8524-05304d57f250"
      },
      "source": [
        "plt.plot(corr[25])"
      ],
      "execution_count": 14,
      "outputs": [
        {
          "output_type": "execute_result",
          "data": {
            "text/plain": [
              "[<matplotlib.lines.Line2D at 0x7f5e4b82a518>]"
            ]
          },
          "metadata": {
            "tags": []
          },
          "execution_count": 14
        },
        {
          "output_type": "display_data",
          "data": {
            "image/png": "[encoded data removed]",
            "text/plain": [
              "<Figure size 432x288 with 1 Axes>"
            ]
          },
          "metadata": {
            "tags": []
          }
        }
      ]
    },
    {
      "cell_type": "code",
      "metadata": {
        "id": "fAhd7R049Ul-",
        "colab_type": "code",
        "colab": {
          "base_uri": "https://localhost:8080/",
          "height": 283
        },
        "outputId": "d47ec881-650b-41a2-af7c-4cac94fca287"
      },
      "source": [
        "plt.plot(np.mean(corr, axis=0))"
      ],
      "execution_count": 15,
      "outputs": [
        {
          "output_type": "execute_result",
          "data": {
            "text/plain": [
              "[<matplotlib.lines.Line2D at 0x7f5e4b801da0>]"
            ]
          },
          "metadata": {
            "tags": []
          },
          "execution_count": 15
        },
        {
          "output_type": "display_data",
          "data": {
            "image/png": "[encoded data removed]",
            "text/plain": [
              "<Figure size 432x288 with 1 Axes>"
            ]
          },
          "metadata": {
            "tags": []
          }
        }
      ]
    },
    {
      "cell_type": "code",
      "metadata": {
        "id": "irom606VASFt",
        "colab_type": "code",
        "colab": {
          "base_uri": "https://localhost:8080/",
          "height": 35
        },
        "outputId": "5b578fa1-c09e-417a-e545-f836c0ec3651"
      },
      "source": [
        "np.mean(np.mean(corr, axis=0))"
      ],
      "execution_count": 16,
      "outputs": [
        {
          "output_type": "execute_result",
          "data": {
            "text/plain": [
              "0.01643748191390179"
            ]
          },
          "metadata": {
            "tags": []
          },
          "execution_count": 16
        }
      ]
    },
    {
      "cell_type": "code",
      "metadata": {
        "id": "WRd0NgXPAjMS",
        "colab_type": "code",
        "colab": {}
      },
      "source": [
        "alpha = 5\n",
        "var_eps = 1\n",
        "N = 50\n",
        "def test_corr(N, alpha, var_eps):\n",
        "  X, X_growth = create_DGP(N, 100, alpha, var_eps)\n",
        "\n",
        "  corr_X = np.ones([N, N])\n",
        "  for i in range(N):\n",
        "    for j in range(N):\n",
        "      corr_X[i, j] = pearsonr(X_growth[i], X_growth[j])[0]\n",
        "  return np.mean(corr_X)"
      ],
      "execution_count": 0,
      "outputs": []
    },
    {
      "cell_type": "code",
      "metadata": {
        "id": "U98qBrLeAfSv",
        "colab_type": "code",
        "colab": {
          "base_uri": "https://localhost:8080/",
          "height": 399
        },
        "outputId": "86631ae4-d26b-4f6e-c7d7-ec791f10a3e2"
      },
      "source": [
        "for alpha in [1, 2, 3, 4, 5]:\n",
        "  print(str(alpha) + ' alpha returns correlation : '+str(test_corr(50, alpha, 0.5)))\n",
        "  \n",
        "  print(str(alpha) + ' alpha returns correlation : '+str(test_corr(50, alpha, 1)))\n",
        "for var_eps in [0.5, 0.7, 0.9, 1]:\n",
        "  print(str(var_eps) + ' var_eps returns correlation : '+str(test_corr(50, 1, var_eps)))\n",
        "  \n",
        "  print(str(var_eps) + ' var_eps returns correlation : '+str(test_corr(50, 2, var_eps)))\n",
        "  \n",
        "  print(str(var_eps) + ' var_eps returns correlation : '+str(test_corr(50, 5, var_eps)))"
      ],
      "execution_count": 18,
      "outputs": [
        {
          "output_type": "stream",
          "text": [
            "1 alpha returns correlation : 0.017840829989224993\n",
            "1 alpha returns correlation : 0.021298850086356767\n",
            "2 alpha returns correlation : 0.019913846230078504\n",
            "2 alpha returns correlation : 0.019025911783503227\n",
            "3 alpha returns correlation : 0.021348503098557993\n",
            "3 alpha returns correlation : 0.022461225725882078\n",
            "4 alpha returns correlation : 0.017278265925514517\n",
            "4 alpha returns correlation : 0.016428440797564114\n",
            "5 alpha returns correlation : 0.018371591952497438\n",
            "5 alpha returns correlation : 0.019633204961581777\n",
            "0.5 var_eps returns correlation : 0.021191173006445106\n",
            "0.5 var_eps returns correlation : 0.02213596762349401\n",
            "0.5 var_eps returns correlation : 0.01995061756173222\n",
            "0.7 var_eps returns correlation : 0.016714421089840285\n",
            "0.7 var_eps returns correlation : 0.02090083031344547\n",
            "0.7 var_eps returns correlation : 0.019824439855905915\n",
            "0.9 var_eps returns correlation : 0.023210282643362497\n",
            "0.9 var_eps returns correlation : 0.01945913603363921\n",
            "0.9 var_eps returns correlation : 0.01950342115159354\n",
            "1 var_eps returns correlation : 0.020906164659389888\n",
            "1 var_eps returns correlation : 0.016700568489180192\n",
            "1 var_eps returns correlation : 0.02162056653557851\n"
          ],
          "name": "stdout"
        }
      ]
    },
    {
      "cell_type": "markdown",
      "metadata": {
        "id": "MCq_C3nOBTJ5",
        "colab_type": "text"
      },
      "source": [
        " Where does this correlation come from?\n",
        "\n",
        "expected variance of growth rate is (alpha-1)**2/12  from theta and 1 from epsilon\n",
        "\n",
        "Somehow for different var_eps and alpha always around 0.02"
      ]
    },
    {
      "cell_type": "code",
      "metadata": {
        "id": "ag2FvVOqBAVo",
        "colab_type": "code",
        "colab": {}
      },
      "source": [
        "# ??\n",
        "np.mean(corr_X)"
      ],
      "execution_count": 0,
      "outputs": []
    },
    {
      "cell_type": "markdown",
      "metadata": {
        "id": "AVeFpohZqKFO",
        "colab_type": "text"
      },
      "source": [
        "### v Step 4: Define Model\n",
        "For every country (row), we retrieve an array of correlated countries (rows) and an array of countries in the (potential) cointegration relation.\n",
        "\n",
        "Steps involved:\n",
        "\n",
        "  * Define function(independent, parameters)\n",
        "*   parameter: mu, gamma, beta, alphas\n",
        "*  independent vars: pos, neg, JH\n",
        "*  rank = JH.shape[0]-1\n",
        "*  returns fitted value: f(pos, neg, JH) = growth[y]\n",
        "\n",
        "  *   Estimate parameters\n",
        "* desired output = growth[y]\n",
        "* input = pos[y], neg[y], CRDW[y]\n",
        "* params: mu, gamma, beta, ...\n",
        "* fit by NLS: minimize des_out - fit(params, indep)\n",
        "\n",
        "  * Forecast\n",
        "* Train to retrieve params per i, training set\n",
        "* Predict one step ahead\n",
        "* store RMSPE\n",
        "\n"
      ]
    },
    {
      "cell_type": "code",
      "metadata": {
        "id": "VA0MECMa3pTb",
        "colab_type": "code",
        "colab": {}
      },
      "source": [
        "N, T = Y.shape\n",
        "i = 3"
      ],
      "execution_count": 0,
      "outputs": []
    },
    {
      "cell_type": "code",
      "metadata": {
        "id": "HeKqJmvg7XxM",
        "colab_type": "code",
        "outputId": "0f4f327e-6017-43cb-820d-88d9e4a54c55",
        "colab": {
          "base_uri": "https://localhost:8080/",
          "height": 191
        }
      },
      "source": [
        "JH = CRDW(i)\n",
        "pos, neg = max_min_correlations(i)\n",
        "\n",
        "params = Parameters()\n",
        "rank = JH.shape[0]\n",
        "for r in range(1, rank):\n",
        "  params.add('beta'+str(r), value = np.random.normal(-1, 1), max=0)\n",
        "\n",
        "params.add('mu', value = np.random.normal(0, 1))\n",
        "params.add('alpha_self', value = np.random.normal(0, 1))\n",
        "params.add('alpha_pos', value = np.random.normal(0, 1))\n",
        "params.add('alpha_neg', value = np.random.normal(0, 1))\n",
        "params.add('theta_pos', value = np.random.normal(0, 1))\n",
        "params.add('theta_neg', value = np.random.normal(0, 1))\n",
        "params.add('gamma', value = np.random.normal(0, 1))\n",
        "\n",
        "params.pretty_print()"
      ],
      "execution_count": 20,
      "outputs": [
        {
          "output_type": "stream",
          "text": [
            "Name           Value      Min      Max   Stderr     Vary     Expr Brute_Step\n",
            "alpha_neg    -0.5207     -inf      inf     None     True     None     None\n",
            "alpha_pos    -0.1866     -inf      inf     None     True     None     None\n",
            "alpha_self      1.36     -inf      inf     None     True     None     None\n",
            "beta1         -2.097     -inf        0     None     True     None     None\n",
            "beta2         -2.425     -inf        0     None     True     None     None\n",
            "gamma          0.954     -inf      inf     None     True     None     None\n",
            "mu           -0.3598     -inf      inf     None     True     None     None\n",
            "theta_neg    -0.1099     -inf      inf     None     True     None     None\n",
            "theta_pos    -0.4207     -inf      inf     None     True     None     None\n"
          ],
          "name": "stdout"
        }
      ]
    },
    {
      "cell_type": "code",
      "metadata": {
        "id": "7O9ik3ca6wdM",
        "colab_type": "code",
        "colab": {}
      },
      "source": [
        "def residual(params, pos, neg, JH):\n",
        "  rank = JH.shape[0] # test if this works when rank = 1 NOPE\n",
        "\n",
        "  mu = params['mu']\n",
        "  alpha_self = params['alpha_self']\n",
        "  alpha_pos = params['alpha_pos']\n",
        "  alpha_neg = params['alpha_neg']\n",
        "  theta_pos = params['theta_pos']\n",
        "  theta_neg = params['theta_neg']\n",
        "  gamma = params['gamma']\n",
        "\n",
        "  beta = np.ones(rank)\n",
        "  for r in range(1, rank):\n",
        "    beta[r] = params['beta'+str(r)]\n",
        "\n",
        "  assert beta[0] == 1\n",
        "  #assert np.sum(beta>0) == 1\n",
        "  assert beta.size == rank\n",
        "      \n",
        "  alpha_i_j_p = np.array([alpha_pos, alpha_pos*theta_pos, alpha_pos*(theta_pos**2), alpha_pos*(theta_pos**3)])\n",
        "  alpha_i_j_n = np.array([alpha_neg, alpha_neg*theta_neg, alpha_neg*(theta_neg**2), alpha_neg*(theta_neg**3)])\n",
        "  \n",
        "  assert alpha_i_j_p.size == 4\n",
        "  assert alpha_i_j_n.size == 4\n",
        "\n",
        "  # TO-DO growth rate t-1, alpha_self ??\n",
        "  # correlation = alpha_self * growth_rate(Y) + alpha_i_j_n.dot(neg) + alpha_i_j_p.dot(pos)\n",
        "  correlation = alpha_i_j_n.dot(neg) + alpha_i_j_p.dot(pos)\n",
        "\n",
        "  cointegration = gamma * (beta.dot(JH))\n",
        "\n",
        "  model = cointegration + correlation + mu\n",
        "\n",
        "  return growth_rate(Y[3]) - model"
      ],
      "execution_count": 0,
      "outputs": []
    },
    {
      "cell_type": "code",
      "metadata": {
        "id": "6Dtnq9bEDnlG",
        "colab_type": "code",
        "colab": {}
      },
      "source": [
        "def function(pos, neg, JH, mu, alpha_self, alpha_pos, alpha_neg, theta_pos, theta_neg, gamma, beta):\n",
        "  rank = JH.shape[0] # test if this works when rank = 1 NOPE\n",
        "\n",
        "  assert beta[0] == 1\n",
        "  #assert np.sum(beta>0) == 1\n",
        "  assert beta.size == rank\n",
        "      \n",
        "  alpha_i_j_p = np.array([alpha_pos, alpha_pos*theta_pos, alpha_pos*(theta_pos**2), alpha_pos*(theta_pos**3)])\n",
        "  alpha_i_j_n = np.array([alpha_neg, alpha_neg*theta_neg, alpha_neg*(theta_neg**2), alpha_neg*(theta_neg**3)])\n",
        "  \n",
        "  assert alpha_i_j_p.size == 4\n",
        "  assert alpha_i_j_n.size == 4\n",
        "\n",
        "  # TO-DO growth rate t-1, alpha_self ??\n",
        "  # correlation = alpha_self * growth_rate(Y) + alpha_i_j_n.dot(neg) + alpha_i_j_p.dot(pos)\n",
        "  correlation = alpha_i_j_n.dot(neg) + alpha_i_j_p.dot(pos)\n",
        "\n",
        "  cointegration = gamma * (beta.dot(JH))\n",
        "\n",
        "  model = cointegration + correlation + mu\n",
        "\n",
        "  return model"
      ],
      "execution_count": 0,
      "outputs": []
    },
    {
      "cell_type": "code",
      "metadata": {
        "id": "Ti1XRHa_EC2p",
        "colab_type": "code",
        "colab": {}
      },
      "source": [
        "def function(pos, neg, JH, gamma, beta, mu):\n",
        "  rank = JH.shape[0] # test if this works when rank = 1 NOPE\n",
        "\n",
        "  beta = np.ones(rank)\n",
        "  for r in range(1, rank):\n",
        "    beta[r] = params['beta'+str(r)]\n",
        "\n",
        "  assert beta[0] == 1\n",
        "  assert np.sum(beta>0) == 1\n",
        "  assert beta.size == rank\n",
        "      \n",
        "  alpha_i_j_p = np.ones(4)\n",
        "  alpha_i_j_n = np.ones(4)\n",
        "  \n",
        "  assert alpha_i_j_p.size == 4\n",
        "  assert alpha_i_j_n.size == 4\n",
        "\n",
        "  # TO-DO growth rate t-1, alpha_self ??\n",
        "  # correlation = alpha_self * growth_rate(Y) + alpha_i_j_n.dot(neg) + alpha_i_j_p.dot(pos)\n",
        "  correlation = alpha_i_j_n.dot(neg) + alpha_i_j_p.dot(pos)\n",
        "\n",
        "  cointegration = gamma * (beta.dot(JH))\n",
        "\n",
        "  return cointegration + correlation + mu\n"
      ],
      "execution_count": 0,
      "outputs": []
    },
    {
      "cell_type": "markdown",
      "metadata": {
        "id": "AFOPle-vqODn",
        "colab_type": "text"
      },
      "source": [
        "### Step 5: Estimate Parameters (NLS)\n",
        "\n",
        "NLS predict growth y_i on constant_i lagged growth correlated others and cointegration combinations"
      ]
    },
    {
      "cell_type": "markdown",
      "metadata": {
        "id": "7d0ehV0fLmcK",
        "colab_type": "text"
      },
      "source": [
        "![image.png](data:image/png;base64,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)"
      ]
    },
    {
      "cell_type": "code",
      "metadata": {
        "id": "bnKOu7u4--6h",
        "colab_type": "code",
        "outputId": "72be4953-fd94-462d-c3fd-59159d9380f2",
        "colab": {
          "base_uri": "https://localhost:8080/",
          "height": 52
        }
      },
      "source": [
        "import time\n",
        "start = time.time()\n",
        "out = minimize(residual, params, args=(pos, neg, JH), method='leastsq', maxfev=1000000)\n",
        "print(out.message)\n",
        "print('Estimation took: {} seconds'.format(time.time() - start))"
      ],
      "execution_count": 24,
      "outputs": [
        {
          "output_type": "stream",
          "text": [
            "Fit succeeded. Could not estimate error-bars.\n",
            "Estimation took: 12.408050298690796 seconds\n"
          ],
          "name": "stdout"
        }
      ]
    },
    {
      "cell_type": "markdown",
      "metadata": {
        "id": "4n1iS7KlK7_7",
        "colab_type": "text"
      },
      "source": [
        "**TO-DO**\n",
        "- add other paramters for alpha"
      ]
    },
    {
      "cell_type": "code",
      "metadata": {
        "id": "oP5pXYj0FdoP",
        "colab_type": "code",
        "colab": {}
      },
      "source": [
        "mu_hat = out.params['mu'].value\n",
        "gamma_hat = out.params['gamma'].value\n",
        "output = function(pos, neg, JH, mu_hat, [1, -0.4, -0.2], 0.9)\n",
        "\n",
        "beta = np.ones(rank)\n",
        "for r in range(1, rank):\n",
        "  beta[r] = out.params['beta'+str(r)].value\n",
        "\n",
        "assert beta.size == rank\n",
        "assert beta[0] == 1\n",
        "assert np.sum(beta > 0) == 1\n",
        "\n"
      ],
      "execution_count": 0,
      "outputs": []
    },
    {
      "cell_type": "code",
      "metadata": {
        "id": "JxUR3K4AK6l9",
        "colab_type": "code",
        "outputId": "ca68b5c0-ecc7-4cf7-ce39-8d7fc5d559ca",
        "colab": {
          "base_uri": "https://localhost:8080/",
          "height": 35
        }
      },
      "source": [
        "pred = function(pos, neg, JH, mu_hat, beta, gamma_hat)\n",
        "pred.shape"
      ],
      "execution_count": 26,
      "outputs": [
        {
          "output_type": "execute_result",
          "data": {
            "text/plain": [
              "(99,)"
            ]
          },
          "metadata": {
            "tags": []
          },
          "execution_count": 26
        }
      ]
    },
    {
      "cell_type": "code",
      "metadata": {
        "id": "yNn5s5_lLP1Y",
        "colab_type": "code",
        "outputId": "324e11a0-dd2f-4bcc-ab95-50a48094d227",
        "colab": {
          "base_uri": "https://localhost:8080/",
          "height": 35
        }
      },
      "source": [
        "truth = Y_growth[i]\n",
        "RMSPE = (pred - truth) #still have to divide by truth! \n",
        "np.mean(RMSPE)"
      ],
      "execution_count": 27,
      "outputs": [
        {
          "output_type": "execute_result",
          "data": {
            "text/plain": [
              "7.1013256440066925"
            ]
          },
          "metadata": {
            "tags": []
          },
          "execution_count": 27
        }
      ]
    },
    {
      "cell_type": "markdown",
      "metadata": {
        "id": "v7vlKbSRqSbL",
        "colab_type": "text"
      },
      "source": [
        "### v Step 6: Benchmark (IMA(1, 1))\n",
        "https://towardsdatascience.com/arima-forecasting-in-python-90d36c2246d3"
      ]
    },
    {
      "cell_type": "code",
      "metadata": {
        "id": "U9aBZqRPNqU3",
        "colab_type": "code",
        "outputId": "d373fc33-1240-4986-f1c5-d9f76e6f9e82",
        "colab": {
          "base_uri": "https://localhost:8080/",
          "height": 517
        }
      },
      "source": [
        "IMA_model = ARIMA(Y[i], order=(0, 1, 1))\n",
        "results = IMA_model.fit(trend='nc') # should have trend I think?\n",
        "IMA_resid = results.resid\n",
        "results.plot_predict()\n",
        "results.summary()"
      ],
      "execution_count": 0,
      "outputs": [
        {
          "output_type": "execute_result",
          "data": {
            "text/html": [
              "<table class=\"simpletable\">\n",
              "<caption>ARIMA Model Results</caption>\n",
              "<tr>\n",
              "  <th>Dep. Variable:</th>        <td>D.y</td>       <th>  No. Observations:  </th>    <td>99</td>   \n",
              "</tr>\n",
              "<tr>\n",
              "  <th>Model:</th>          <td>ARIMA(0, 1, 1)</td>  <th>  Log Likelihood     </th> <td>-151.995</td>\n",
              "</tr>\n",
              "<tr>\n",
              "  <th>Method:</th>             <td>css-mle</td>     <th>  S.D. of innovations</th>   <td>1.122</td> \n",
              "</tr>\n",
              "<tr>\n",
              "  <th>Date:</th>          <td>Thu, 02 Apr 2020</td> <th>  AIC                </th>  <td>307.990</td>\n",
              "</tr>\n",
              "<tr>\n",
              "  <th>Time:</th>              <td>14:06:11</td>     <th>  BIC                </th>  <td>313.181</td>\n",
              "</tr>\n",
              "<tr>\n",
              "  <th>Sample:</th>                <td>1</td>        <th>  HQIC               </th>  <td>310.090</td>\n",
              "</tr>\n",
              "<tr>\n",
              "  <th></th>                       <td> </td>        <th>                     </th>     <td> </td>   \n",
              "</tr>\n",
              "</table>\n",
              "<table class=\"simpletable\">\n",
              "<tr>\n",
              "      <td></td>         <th>coef</th>     <th>std err</th>      <th>z</th>      <th>P>|z|</th>  <th>[0.025</th>    <th>0.975]</th>  \n",
              "</tr>\n",
              "<tr>\n",
              "  <th>ma.L1.D.y</th> <td>    0.4514</td> <td>    0.077</td> <td>    5.846</td> <td> 0.000</td> <td>    0.300</td> <td>    0.603</td>\n",
              "</tr>\n",
              "</table>\n",
              "<table class=\"simpletable\">\n",
              "<caption>Roots</caption>\n",
              "<tr>\n",
              "    <td></td>   <th>            Real</th>  <th>         Imaginary</th> <th>         Modulus</th>  <th>        Frequency</th>\n",
              "</tr>\n",
              "<tr>\n",
              "  <th>MA.1</th> <td>          -2.2156</td> <td>          +0.0000j</td> <td>           2.2156</td> <td>           0.5000</td>\n",
              "</tr>\n",
              "</table>"
            ],
            "text/plain": [
              "<class 'statsmodels.iolib.summary.Summary'>\n",
              "\"\"\"\n",
              "                             ARIMA Model Results                              \n",
              "==============================================================================\n",
              "Dep. Variable:                    D.y   No. Observations:                   99\n",
              "Model:                 ARIMA(0, 1, 1)   Log Likelihood                -151.995\n",
              "Method:                       css-mle   S.D. of innovations              1.122\n",
              "Date:                Thu, 02 Apr 2020   AIC                            307.990\n",
              "Time:                        14:06:11   BIC                            313.181\n",
              "Sample:                             1   HQIC                           310.090\n",
              "                                                                              \n",
              "==============================================================================\n",
              "                 coef    std err          z      P>|z|      [0.025      0.975]\n",
              "------------------------------------------------------------------------------\n",
              "ma.L1.D.y      0.4514      0.077      5.846      0.000       0.300       0.603\n",
              "                                    Roots                                    \n",
              "=============================================================================\n",
              "                  Real          Imaginary           Modulus         Frequency\n",
              "-----------------------------------------------------------------------------\n",
              "MA.1           -2.2156           +0.0000j            2.2156            0.5000\n",
              "-----------------------------------------------------------------------------\n",
              "\"\"\""
            ]
          },
          "metadata": {
            "tags": []
          },
          "execution_count": 165
        },
        {
          "output_type": "display_data",
          "data": {
            "image/png": "[encoded data removed]",
            "text/plain": [
              "<Figure size 432x288 with 1 Axes>"
            ]
          },
          "metadata": {
            "tags": []
          }
        }
      ]
    },
    {
      "cell_type": "code",
      "metadata": {
        "id": "0i17NXpmxyNK",
        "colab_type": "code",
        "outputId": "73f50596-65a0-464b-e4af-10c5cab19148",
        "colab": {
          "base_uri": "https://localhost:8080/",
          "height": 517
        }
      },
      "source": [
        "IMA_model = ARIMA(Y_growth[i], order=(0, 1, 1))\n",
        "results = IMA_model.fit(trend='nc') # should have trend I think?\n",
        "IMA_resid = results.resid\n",
        "results.plot_predict()\n",
        "results.summary()\n"
      ],
      "execution_count": 0,
      "outputs": [
        {
          "output_type": "execute_result",
          "data": {
            "text/html": [
              "<table class=\"simpletable\">\n",
              "<caption>ARIMA Model Results</caption>\n",
              "<tr>\n",
              "  <th>Dep. Variable:</th>        <td>D.y</td>       <th>  No. Observations:  </th>    <td>98</td>   \n",
              "</tr>\n",
              "<tr>\n",
              "  <th>Model:</th>          <td>ARIMA(0, 1, 1)</td>  <th>  Log Likelihood     </th> <td>-121.142</td>\n",
              "</tr>\n",
              "<tr>\n",
              "  <th>Method:</th>             <td>css-mle</td>     <th>  S.D. of innovations</th>   <td>0.814</td> \n",
              "</tr>\n",
              "<tr>\n",
              "  <th>Date:</th>          <td>Thu, 02 Apr 2020</td> <th>  AIC                </th>  <td>246.284</td>\n",
              "</tr>\n",
              "<tr>\n",
              "  <th>Time:</th>              <td>14:06:00</td>     <th>  BIC                </th>  <td>251.454</td>\n",
              "</tr>\n",
              "<tr>\n",
              "  <th>Sample:</th>                <td>1</td>        <th>  HQIC               </th>  <td>248.375</td>\n",
              "</tr>\n",
              "<tr>\n",
              "  <th></th>                       <td> </td>        <th>                     </th>     <td> </td>   \n",
              "</tr>\n",
              "</table>\n",
              "<table class=\"simpletable\">\n",
              "<tr>\n",
              "      <td></td>         <th>coef</th>     <th>std err</th>      <th>z</th>      <th>P>|z|</th>  <th>[0.025</th>    <th>0.975]</th>  \n",
              "</tr>\n",
              "<tr>\n",
              "  <th>ma.L1.D.y</th> <td>   -1.0000</td> <td>    0.031</td> <td>  -32.673</td> <td> 0.000</td> <td>   -1.060</td> <td>   -0.940</td>\n",
              "</tr>\n",
              "</table>\n",
              "<table class=\"simpletable\">\n",
              "<caption>Roots</caption>\n",
              "<tr>\n",
              "    <td></td>   <th>            Real</th>  <th>         Imaginary</th> <th>         Modulus</th>  <th>        Frequency</th>\n",
              "</tr>\n",
              "<tr>\n",
              "  <th>MA.1</th> <td>           1.0000</td> <td>          +0.0000j</td> <td>           1.0000</td> <td>           0.0000</td>\n",
              "</tr>\n",
              "</table>"
            ],
            "text/plain": [
              "<class 'statsmodels.iolib.summary.Summary'>\n",
              "\"\"\"\n",
              "                             ARIMA Model Results                              \n",
              "==============================================================================\n",
              "Dep. Variable:                    D.y   No. Observations:                   98\n",
              "Model:                 ARIMA(0, 1, 1)   Log Likelihood                -121.142\n",
              "Method:                       css-mle   S.D. of innovations              0.814\n",
              "Date:                Thu, 02 Apr 2020   AIC                            246.284\n",
              "Time:                        14:06:00   BIC                            251.454\n",
              "Sample:                             1   HQIC                           248.375\n",
              "                                                                              \n",
              "==============================================================================\n",
              "                 coef    std err          z      P>|z|      [0.025      0.975]\n",
              "------------------------------------------------------------------------------\n",
              "ma.L1.D.y     -1.0000      0.031    -32.673      0.000      -1.060      -0.940\n",
              "                                    Roots                                    \n",
              "=============================================================================\n",
              "                  Real          Imaginary           Modulus         Frequency\n",
              "-----------------------------------------------------------------------------\n",
              "MA.1            1.0000           +0.0000j            1.0000            0.0000\n",
              "-----------------------------------------------------------------------------\n",
              "\"\"\""
            ]
          },
          "metadata": {
            "tags": []
          },
          "execution_count": 164
        },
        {
          "output_type": "display_data",
          "data": {
            "image/png": "[encoded data removed]",
            "text/plain": [
              "<Figure size 432x288 with 1 Axes>"
            ]
          },
          "metadata": {
            "tags": []
          }
        }
      ]
    },
    {
      "cell_type": "code",
      "metadata": {
        "id": "N_tkhXmcjk1k",
        "colab_type": "code",
        "colab": {}
      },
      "source": [
        "from sklearn.metrics import mean_squared_error\n",
        "def baseline(i):\n",
        "  \"function to estimate IMA using rolling window, returns MSPE\"  \n",
        "  train, test = T1[i], T2[i]\n",
        "  history = [x for x in train]\n",
        "  predictions = list()\n",
        "  for t in range(len(test)):\n",
        "    model = ARIMA(history, order=(0,1,1))\n",
        "    model_fit = model.fit(disp=0)\n",
        "    output = model_fit.forecast()\n",
        "    yhat = output[0]\n",
        "    predictions.append(yhat)\n",
        "    obs = test[t]\n",
        "    history.append(obs)\n",
        "    #print('predicted=%f, expected=%f' % (yhat, obs))\n",
        "  # MSE = mean_squared_error(test, predictions)\n",
        "  return predictions"
      ],
      "execution_count": 0,
      "outputs": []
    },
    {
      "cell_type": "code",
      "metadata": {
        "id": "5m23d3L4aUIP",
        "colab_type": "code",
        "colab": {}
      },
      "source": [
        "def recursive_estimation(T1_size, T2=30, steps_ahead=1):\n",
        "  i = 0\n",
        "  for j in range(T2):\n",
        "    train_data = Y[i][:(T1_size+j)]\n",
        "    IMA_model = ARIMA(train_data, order=(0, 1, 1))\n",
        "    results = IMA_model.fit(trend='nc')\n",
        "\n",
        "    fc = IMA_model.predict(Y[i][T1+j+1])\n",
        "    forecasts.append(fc)\n",
        "    \n",
        "    RMSPE = np.sqrt(np.mean(np.square(((Y[i][T-T2:] - forecasts) / Y[i][T-T2])), axis=0))\n",
        "  return RMSPE"
      ],
      "execution_count": 0,
      "outputs": []
    },
    {
      "cell_type": "code",
      "metadata": {
        "id": "cbusY_uXp5mb",
        "colab_type": "code",
        "colab": {}
      },
      "source": [
        "i = 0\n",
        "T1=20\n",
        "T2=30\n",
        "steps_ahead=1\n",
        "for j in range(T2):\n",
        "  train_data = Y[i][:(T1+j)]\n",
        "  IMA_model = ARIMA(train_data, order=(0, 1, 1))\n",
        "  results = IMA_model.fit(trend='nc')\n",
        "\n",
        "  fc = IMA_model.predict(Y[i][T1+j+1])\n",
        "  forecasts.append(fc)\n",
        "    \n",
        "RMSPE = np.sqrt(np.mean(np.square(((Y[i][T-T2:] - forecasts) / Y[i][T-T2])), axis=0))\n"
      ],
      "execution_count": 0,
      "outputs": []
    },
    {
      "cell_type": "markdown",
      "metadata": {
        "id": "Yb4B2HtZjXzz",
        "colab_type": "text"
      },
      "source": [
        "## Construct forecasts\n",
        "\n",
        "Create recursively T2 1-step ahead forecasts for each country (i).\n",
        "\n",
        "Compute Root Mean Squared Prediction Error\n",
        "\n",
        "Count #times RMSPE (us) < RMSPE(IMA)\n",
        "\n",
        "\n"
      ]
    },
    {
      "cell_type": "code",
      "metadata": {
        "id": "z1NuOcBTzAIG",
        "colab_type": "code",
        "colab": {}
      },
      "source": [
        "fig, axes = plt.subplots(nrows=1, ncols=2, figsize=(10, 3))\n",
        "fig.suptitle('Residuals for i = 2, model comparison')\n",
        "axes[0].plot(out.residual)\n",
        "axes[0].set_title('Us')\n",
        "axes[0].set_xlabel('t')\n",
        "axes[1].plot(IMA_resid)\n",
        "axes[1].set_title('IMA(1, 1)')\n",
        "axes[1].set_xlabel('t')\n",
        "fig.tight_layout()"
      ],
      "execution_count": 0,
      "outputs": []
    },
    {
      "cell_type": "code",
      "metadata": {
        "id": "ZhQSyhKPMEfS",
        "colab_type": "code",
        "colab": {}
      },
      "source": [
        "IMA_model = ARIMA(Y[0], order=(0, 1, 1))\n",
        "results = IMA_model.fit(trend='nc')\n",
        "\n",
        "results.plot_predict()\n",
        "results.summary()"
      ],
      "execution_count": 0,
      "outputs": []
    },
    {
      "cell_type": "code",
      "metadata": {
        "id": "Sm5bTfDMzI7T",
        "colab_type": "code",
        "colab": {}
      },
      "source": [
        "def recursive_estimation(model, T1, T2, steps_ahead=1):\n",
        "  for j in range(T2):\n",
        "    train_data = Y[i][:(T1+j)]\n",
        "    model_IMA = ARIMA(train_data, order=(0, 1, 1))\n",
        "    results = IMA_model.fit(trend='nc')\n",
        "\n",
        "    fc = IMA_model.predict(Y[i][T1+j+1])\n",
        "    forecasts.append(fc)\n",
        "    \n",
        "    RMSPE = np.sqrt(np.mean(np.square(((Y[i][T-T2:] - forecasts) / Y[i][T-T2])), axis=0))\n",
        "  return RMSPE"
      ],
      "execution_count": 0,
      "outputs": []
    },
    {
      "cell_type": "code",
      "metadata": {
        "id": "-sjciQUAjlWR",
        "colab_type": "code",
        "colab": {}
      },
      "source": [
        "# test\n",
        "RMSPE_us=[1, 1, 1, 1, 1, 1]\n",
        "RMSPE_IMA=[2, 2, 2, 2, 2, 2]\n"
      ],
      "execution_count": 0,
      "outputs": []
    },
    {
      "cell_type": "code",
      "metadata": {
        "id": "PJ-Pq88_pgVx",
        "colab_type": "code",
        "colab": {}
      },
      "source": [
        "def compare_models(RMSPE_IMA, RMSPE_us):\n",
        "  for j in range(6):\n",
        "    if (RMSPE_us[j]<RMSPE_IMA[i]):\n",
        "      beaten+=1\n",
        "  return beaten"
      ],
      "execution_count": 0,
      "outputs": []
    },
    {
      "cell_type": "markdown",
      "metadata": {
        "id": "ZFPjir3OwOt4",
        "colab_type": "text"
      },
      "source": [
        "# Main Script"
      ]
    },
    {
      "cell_type": "code",
      "metadata": {
        "id": "4Y2xceG7sz8m",
        "colab_type": "code",
        "colab": {}
      },
      "source": [
        "[N, T] = Y.shape\n",
        "for i in range(N):\n",
        "  estimate_model(i)\n",
        "  #RMSPE_IMA = estimate_model(i)\n"
      ],
      "execution_count": 0,
      "outputs": []
    },
    {
      "cell_type": "code",
      "metadata": {
        "id": "sfJMPJ4Ar3v_",
        "colab_type": "code",
        "colab": {}
      },
      "source": [
        "i = 7\n",
        "JH = CRDW(i)\n",
        "pos, neg = correlation(i)\n",
        "beta = cointegration(JH)\n",
        "country = Y_growth[i]\n",
        " # TO-DO: growth rates!\n",
        "\n",
        "def residual(params, pos, neg, country, JH):\n",
        "  mu = params['mu']\n",
        "  alpha_self = params['alpha_self']\n",
        "  alpha_pos = params['alpha_pos']\n",
        "  alpha_neg = params['alpha_neg']\n",
        "  theta_pos = params['theta_pos']\n",
        "  theta_neg = params['theta_neg']\n",
        "  gamma = params['gamma']\n",
        "  #beta = params['beta']\n",
        "\n",
        "  alpha_i_j_p = np.array([alpha_pos, alpha_pos*theta_pos, alpha_pos*(theta_pos**2), alpha_pos*(theta_pos**3)])\n",
        "  alpha_i_j_n = np.array([alpha_neg, alpha_neg*theta_neg, alpha_neg*(theta_neg**2), alpha_neg*(theta_neg**3)])\n",
        "  \n",
        "  correlation = alpha_self * (country) + alpha_i_j_n.dot(neg) + alpha_i_j_p.dot(pos)\n",
        "  \n",
        "  cointegration = gamma*(country - beta.dot(JH[:, :-1])) # check if deleted right time var\n",
        "\n",
        "  model = cointegration + correlation + mu\n",
        "  return Y_growth[0]-model\n",
        "\n",
        "params = Parameters()\n",
        "params.add('mu', value = 1)\n",
        "params.add('alpha_self', value = 2)\n",
        "params.add('alpha_pos', value = 2)\n",
        "params.add('alpha_neg', value = 2)\n",
        "params.add('theta_pos', value = 2)\n",
        "params.add('theta_neg', value = 2)\n",
        "params.add('gamma', value = 5)\n",
        "#params.add('beta', value=beta.all()) # number depends on resuls CRDW\n",
        "\n",
        "minimiz = minimize(residual, params, args=(pos, neg, country, JH), method='leastsq')"
      ],
      "execution_count": 0,
      "outputs": []
    },
    {
      "cell_type": "code",
      "metadata": {
        "id": "uOGzMYlESNHV",
        "colab_type": "code",
        "colab": {}
      },
      "source": [
        "minimiz.params.pretty_print()"
      ],
      "execution_count": 0,
      "outputs": []
    },
    {
      "cell_type": "code",
      "metadata": {
        "id": "zFh6YB40uRgQ",
        "colab_type": "code",
        "colab": {}
      },
      "source": [
        "def model(i, mu, alpha_self, alpha_pos, alpha_neg, theta_pos, theta_neg, gamma):\n",
        "  JH = CRDW(i)\n",
        " # pos, neg = correlation(i)\n",
        "  #beta = cointegration(JH)\n",
        "  S11 = np.cov(JH_i)\n",
        "  S01 = np.cov(np.vstack([growth_rate(JH_i[0]), JH_i[1][1:]]))\n",
        "  S10 = np.cov(np.vstack([JH_i[0][1:], growth_rate(JH_i[1])]))\n",
        "  S00 = np.cov(np.vstack([ growth_rate(row) for row in JH_i ]))\n",
        "\n",
        "  beta = np.linalg.eigh(S11-S10.dot(np.linalg.inv(S00)).dot(S01))[1][:, 0]\n",
        "  country = Y_growth[i]\n",
        "  corr_i = np.zeros(N)\n",
        "  for j in range(N):\n",
        "    corr_i[j] = pearsonr(Y_growth[i], Y_growth[j])[0] # drop argmax for i=j (1)\n",
        "        # absolute value, take highest 8\n",
        "  \n",
        "  pos = Y_growth[np.argpartition(corr_i, -5)[-5:-1]]\n",
        "  assert pos.shape[0] == 4\n",
        "  neg = Y_growth[corr_i.argsort()[:4]]\n",
        "  assert neg.shape[0] == 4\n",
        "\n",
        "\n",
        "  alpha_i_j_p = np.array([alpha_pos, alpha_pos*theta_pos, alpha_pos*(theta_pos**2), alpha_pos*(theta_pos**3)])\n",
        "  alpha_i_j_n = np.array([alpha_neg, alpha_neg*theta_neg, alpha_neg*(theta_neg**2), alpha_neg*(theta_neg**3)])\n",
        "  \n",
        "  correlation = alpha_self * (country) + alpha_i_j_n.dot(neg) + alpha_i_j_p.dot(pos)\n",
        "  beta = cointegration(JH)\n",
        "  cointegration = gamma*(country - beta.dot(CRDW(i)[:, :-1])) # check if deleted right time var\n",
        "\n",
        "  out = cointegration + correlation + mu\n",
        "  return out\n"
      ],
      "execution_count": 0,
      "outputs": []
    },
    {
      "cell_type": "code",
      "metadata": {
        "id": "hWXsKXp0ikgQ",
        "colab_type": "code",
        "colab": {}
      },
      "source": [
        "popt, pcov = curve_fit(model, 7, Y_growth[7])"
      ],
      "execution_count": 0,
      "outputs": []
    },
    {
      "cell_type": "code",
      "metadata": {
        "id": "c83Ksf9WQDmm",
        "colab_type": "code",
        "colab": {}
      },
      "source": [
        "pars = model.make_params(a=3, b=0.5)\n",
        "mod = Model(myfunc)\n",
        "mod.set_param_hint('a', value=1.0)\n",
        "mod.set_param_hint('b', value=0.3, min=0, max=1.0)\n",
        "pars = mod.make_params()\n",
        "\n",
        "#mod.eval or mod.fit ? might be useful here"
      ],
      "execution_count": 0,
      "outputs": []
    },
    {
      "cell_type": "code",
      "metadata": {
        "id": "kZzoCe8FA8D9",
        "colab_type": "code",
        "colab": {}
      },
      "source": [
        "range_N=[50]\n",
        "range_T=[50]\n",
        "range_alpha=[2, 5, 10]\n",
        "range_a=[1, 2, 5, 10]\n",
        "range_var_eps=[0.5, 1]\n",
        "\n",
        "results = { 'DGP': [], 'mean rank': []}\n",
        "\n",
        "for var_eps in range_var_eps:\n",
        "  for a in range_a:\n",
        "    for alpha in range_alpha:\n",
        "      for T in range_T:\n",
        "        for N in range_N:\n",
        "          #results['DGP'].append( 'N = '+ str(N) + ' T = '+ str(T)+' alpha = '+ str(alpha)+' a = '+ str(a)+' var_eps = '+ str(var_eps))\n",
        "          rank_per_run = []\n",
        "          for s in range(5):\n",
        "            cointegration = 0\n",
        "            number_runs = number_runs+1\n",
        "            Y = create_DGP(N, T, alpha, a, var_eps)\n",
        "            for i in range(N):\n",
        "              r = 0\n",
        "              if np.array_equal(CRDW(i, tao=0.4), Y[i]) == False:\n",
        "                r = CRDW(i).shape[0]-1\n",
        "                cointegration = cointegration + r\n",
        "            rank_per_run.append(cointegration/N)\n",
        "          results['DGP'].append( 'N = '+ str(N) + ' T = '+ str(T)+' alpha = '+ str(alpha)+' a = '+ str(a)+' var_eps = '+ str(var_eps))\n",
        "          results['mean rank'].append(np.mean(rank_per_run))\n",
        "          print(rank_per_run)\n",
        "\n",
        "results = pd.DataFrame(results)"
      ],
      "execution_count": 0,
      "outputs": []
    },
    {
      "cell_type": "code",
      "metadata": {
        "id": "rSQIApolpk8O",
        "colab_type": "code",
        "colab": {}
      },
      "source": [
        "def run_simulation(N, T, alpha, a, var_eps, tao):\n",
        "  Y = create_DGP(N, T, alpha, a, var_eps)\n",
        "\n",
        "  for i in range(N):\n",
        "    # Build single equation model\n",
        "    JH = CRDW(i)\n",
        "    # estimate cointegration relation (lin comb)\n",
        "    pairwise_correlation(i)\n",
        "\n",
        "\n",
        "    # Build IMA(1, 1) model\n",
        "    model_IMA = ..\n",
        "\n",
        "\n",
        "    RMSPE_us = recursive_estimation(model_us, T1, T2, steps_ahead=1)\n",
        "    RMSPE_IMA = recursive_estimation(model_IMA, T1, T2, steps_ahead=1)\n",
        "\n",
        "  return compare_models(RMSPE_IMA, RMSPE_us)"
      ],
      "execution_count": 0,
      "outputs": []
    },
    {
      "cell_type": "markdown",
      "metadata": {
        "id": "tMaYk7F4Vb9y",
        "colab_type": "text"
      },
      "source": [
        "# Export Results"
      ]
    },
    {
      "cell_type": "code",
      "metadata": {
        "id": "ARJ0vuyKpl0V",
        "colab_type": "code",
        "colab": {}
      },
      "source": [
        "simulation_runs=1\n",
        "N=100\n",
        "T=100\n",
        "alpha=1\n",
        "a=1\n",
        "var_eps=0.5\n",
        "tao=0.4\n",
        "\n",
        "results = pd.DataFrame()\n",
        "for i in range(simulation_runs):\n",
        "  results.append(run_simulation(N, T, alpha, a, var_eps, tao))\n",
        "  \n",
        "results.to_csv('EIRAP-results.csv')"
      ],
      "execution_count": 0,
      "outputs": []
    }
  ]
}