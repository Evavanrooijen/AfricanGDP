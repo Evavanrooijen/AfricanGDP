{
  "nbformat": 4,
  "nbformat_minor": 0,
  "metadata": {
    "colab": {
      "name": "simulation.ipynb",
      "provenance": [],
      "authorship_tag": "ABX9TyOu3y/iVouIPx6hICipL2DE",
      "include_colab_link": true
    },
    "kernelspec": {
      "name": "python3",
      "display_name": "Python 3"
    }
  },
  "cells": [
    {
      "cell_type": "markdown",
      "metadata": {
        "id": "view-in-github",
        "colab_type": "text"
      },
      "source": [
        "<a href=\"https://colab.research.google.com/github/Evavanrooijen/AfricanGDP/blob/master/simulation.ipynb\" target=\"_parent\"><img src=\"https://colab.research.google.com/assets/colab-badge.svg\" alt=\"Open In Colab\"/></a>"
      ]
    },
    {
      "cell_type": "code",
      "metadata": {
        "id": "WL6CMD13VQrn",
        "colab_type": "code",
        "colab": {
          "base_uri": "https://localhost:8080/",
          "height": 346
        },
        "outputId": "90da3879-896a-4f5e-f084-71575b79c468"
      },
      "source": [
        "from data import *\n",
        "from model import *\n",
        "from math import sqrt"
      ],
      "execution_count": 33,
      "outputs": [
        {
          "output_type": "error",
          "ename": "NameError",
          "evalue": "ignored",
          "traceback": [
            "\u001b[0;31m---------------------------------------------------------------------------\u001b[0m",
            "\u001b[0;31mNameError\u001b[0m                                 Traceback (most recent call last)",
            "\u001b[0;32m<ipython-input-33-d054ed90e8ad>\u001b[0m in \u001b[0;36m<module>\u001b[0;34m()\u001b[0m\n\u001b[1;32m      1\u001b[0m \u001b[0;32mfrom\u001b[0m \u001b[0mdata\u001b[0m \u001b[0;32mimport\u001b[0m \u001b[0;34m*\u001b[0m\u001b[0;34m\u001b[0m\u001b[0;34m\u001b[0m\u001b[0m\n\u001b[0;32m----> 2\u001b[0;31m \u001b[0;32mfrom\u001b[0m \u001b[0mmodel\u001b[0m \u001b[0;32mimport\u001b[0m \u001b[0;34m*\u001b[0m\u001b[0;34m\u001b[0m\u001b[0;34m\u001b[0m\u001b[0m\n\u001b[0m\u001b[1;32m      3\u001b[0m \u001b[0;32mfrom\u001b[0m \u001b[0mmath\u001b[0m \u001b[0;32mimport\u001b[0m \u001b[0msqrt\u001b[0m\u001b[0;34m\u001b[0m\u001b[0;34m\u001b[0m\u001b[0m\n",
            "\u001b[0;32m/content/model.py\u001b[0m in \u001b[0;36m<module>\u001b[0;34m()\u001b[0m\n\u001b[1;32m    139\u001b[0m   \u001b[0;32mreturn\u001b[0m \u001b[0mfunction\u001b[0m\u001b[0;34m(\u001b[0m\u001b[0mpos\u001b[0m\u001b[0;34m,\u001b[0m \u001b[0mneg\u001b[0m\u001b[0;34m,\u001b[0m \u001b[0mJH\u001b[0m\u001b[0;34m,\u001b[0m \u001b[0mmu_hat\u001b[0m\u001b[0;34m,\u001b[0m \u001b[0mbeta\u001b[0m\u001b[0;34m,\u001b[0m \u001b[0mgamma_hat\u001b[0m\u001b[0;34m)\u001b[0m\u001b[0;34m\u001b[0m\u001b[0;34m\u001b[0m\u001b[0m\n\u001b[1;32m    140\u001b[0m \u001b[0;34m\u001b[0m\u001b[0m\n\u001b[0;32m--> 141\u001b[0;31m \u001b[0mpred\u001b[0m \u001b[0;34m=\u001b[0m \u001b[0mpredict\u001b[0m\u001b[0;34m(\u001b[0m\u001b[0;34m)\u001b[0m\u001b[0;34m\u001b[0m\u001b[0;34m\u001b[0m\u001b[0m\n\u001b[0m\u001b[1;32m    142\u001b[0m \u001b[0;34m\u001b[0m\u001b[0m\n\u001b[1;32m    143\u001b[0m \u001b[0;32mdef\u001b[0m \u001b[0mRMSPE\u001b[0m\u001b[0;34m(\u001b[0m\u001b[0mpred\u001b[0m\u001b[0;34m,\u001b[0m \u001b[0mtruth\u001b[0m\u001b[0;34m)\u001b[0m\u001b[0;34m:\u001b[0m\u001b[0;34m\u001b[0m\u001b[0;34m\u001b[0m\u001b[0m\n",
            "\u001b[0;32m/content/model.py\u001b[0m in \u001b[0;36mpredict\u001b[0;34m()\u001b[0m\n\u001b[1;32m    137\u001b[0m \u001b[0;34m\u001b[0m\u001b[0m\n\u001b[1;32m    138\u001b[0m \u001b[0;32mdef\u001b[0m \u001b[0mpredict\u001b[0m\u001b[0;34m(\u001b[0m\u001b[0;34m)\u001b[0m\u001b[0;34m:\u001b[0m\u001b[0;34m\u001b[0m\u001b[0;34m\u001b[0m\u001b[0m\n\u001b[0;32m--> 139\u001b[0;31m   \u001b[0;32mreturn\u001b[0m \u001b[0mfunction\u001b[0m\u001b[0;34m(\u001b[0m\u001b[0mpos\u001b[0m\u001b[0;34m,\u001b[0m \u001b[0mneg\u001b[0m\u001b[0;34m,\u001b[0m \u001b[0mJH\u001b[0m\u001b[0;34m,\u001b[0m \u001b[0mmu_hat\u001b[0m\u001b[0;34m,\u001b[0m \u001b[0mbeta\u001b[0m\u001b[0;34m,\u001b[0m \u001b[0mgamma_hat\u001b[0m\u001b[0;34m)\u001b[0m\u001b[0;34m\u001b[0m\u001b[0;34m\u001b[0m\u001b[0m\n\u001b[0m\u001b[1;32m    140\u001b[0m \u001b[0;34m\u001b[0m\u001b[0m\n\u001b[1;32m    141\u001b[0m \u001b[0mpred\u001b[0m \u001b[0;34m=\u001b[0m \u001b[0mpredict\u001b[0m\u001b[0;34m(\u001b[0m\u001b[0;34m)\u001b[0m\u001b[0;34m\u001b[0m\u001b[0;34m\u001b[0m\u001b[0m\n",
            "\u001b[0;31mNameError\u001b[0m: name 'function' is not defined"
          ]
        }
      ]
    },
    {
      "cell_type": "code",
      "metadata": {
        "id": "pmF4IFETVAOo",
        "colab_type": "code",
        "colab": {}
      },
      "source": [
        "range_N=[50]\n",
        "range_T=[50]\n",
        "range_alpha=[2, 5, 10]\n",
        "range_a=[1, 2, 5, 10]\n",
        "range_var_eps=[0.5, 1]\n",
        "\n",
        "for var_eps in range_var_eps:\n",
        "  for a in range_a:\n",
        "    for alpha in range_alpha:\n",
        "      for T in range_T:\n",
        "        for N in range_N:\n",
        "          simulation(N, T, alpha, a, var_eps)"
      ],
      "execution_count": 0,
      "outputs": []
    },
    {
      "cell_type": "code",
      "metadata": {
        "id": "8rP-QZdUVK8H",
        "colab_type": "code",
        "colab": {}
      },
      "source": [
        "def simulation(N, T, alpha, a , var_eps):\n",
        "  \"\"\"\n",
        "  Args: DGP specification\n",
        "  Returns: beaten\n",
        "  \"\"\"\n",
        "  create_DGP(10, 50, 2, 0.5)\n",
        "  T1_size = int((T*a)/(1+a))  \n",
        "\n",
        "  RMPSE = np.zeros([N, T-T2_size])\n",
        "  RMPSE_IMA = np.zeros([N, T-T2_size])\n",
        "\n",
        "  for i in range(N):\n",
        "    for t in range(T-T1_size):\n",
        "      train = Y[:][:(T1_size+t)] # should be all countries, limited timehorizon\n",
        "      prediction = fit_and_predict(define_parameters(train, i)) # could also return RMSPE immediately\n",
        "      truth = Y[:][(T1_size+t)] # 1x1 scalar value\n",
        "      RMSPE[i][t] = ((truth - prediction) / truth)**2\n",
        "\n",
        "      # results = IMA_model.fit(trend='nc')\n",
        "      fc = IMA_model.predict(train[i][T1_size+j+1])\n",
        "\n",
        "      model_IMA = ARIMA(train, order=(0,1,1))\n",
        "      model_fit = model_IMA.fit(disp=0) #trend = 'nc', or 'c'\n",
        "      output = model_fit.forecast()\n",
        "      prediction_IMA = output[0]\n",
        "      RMSPE_IMA[i][t] = ((truth - prediction_IMA) / truth)**2\n",
        "      \n",
        "      \n",
        "  RMSPE_model = sqrt(np.mean(RMSPE))\n",
        "  RMSPE_IMA = sqrt(np.mean(RMSPE_IMA))\n",
        "\n",
        "  beaten = compare_models(RMSPE_IMA, RMSPE_model) # over countries or time ?\n",
        "  return beaten"
      ],
      "execution_count": 0,
      "outputs": []
    },
    {
      "cell_type": "code",
      "metadata": {
        "id": "GER6fLNDknh7",
        "colab_type": "code",
        "colab": {}
      },
      "source": [
        "def simulation(N, T, alpha, a , var_eps, runs=100):\n",
        "  \"\"\"\n",
        "  Args: DGP specification\n",
        "  Returns: beaten\n",
        "  \"\"\"\n",
        " \n",
        "  T1_size = int((T*a)/(1+a))  \n",
        "  RMSPE_model = np.zeros(runs)\n",
        "  RMSPE_IMA = np.zeros(runs)\n",
        "\n",
        "  for s in range(runs):\n",
        "    Y = create_DGP(N, T, alpha, var_eps)\n",
        "    RMPSE = np.zeros([N, T-T2_size])\n",
        "    RMPSE_IMA = np.zeros([N, T-T2_size])\n",
        "\n",
        "    for i in range(N):\n",
        "      for t in range(T-T1_size):\n",
        "        train = Y[:][:(T1_size+t)] # should be all countries, limited timehorizon\n",
        "        prediction = fit_and_predict(define_parameters(train, i)) # could also return RMSPE immediately\n",
        "        truth = Y[:][(T1_size+t)] # 1x1 scalar value\n",
        "        RMSPE[i][t] = ((truth - prediction) / truth)**2\n",
        "\n",
        "        # results = IMA_model.fit(trend='nc')\n",
        "        fc = IMA_model.predict(train[i][T1_size+j+1])\n",
        "\n",
        "        model_IMA = ARIMA(train, order=(0,1,1))\n",
        "        model_fit = model_IMA.fit(disp=0) #trend = 'nc', or 'c'\n",
        "        output = model_fit.forecast()\n",
        "        prediction_IMA = output[0]\n",
        "        RMSPE_IMA[i][t] = ((truth - prediction_IMA) / truth)**2\n",
        "        \n",
        "        \n",
        "    RMSPE_model[s] = sqrt(np.mean(RMSPE))\n",
        "    RMSPE_IMA[s] = sqrt(np.mean(RMSPE_IMA))\n",
        "\n",
        "  sumBeaten, beaten = compare_models(RMSPE_IMA, RMSPE_model) # over countries or time ?\n",
        "  exportResults(RMSPE_IMA, RMSPE_model, beaten)\n",
        "  return print(\"Our model beats the benchmark {} times!\".format(sumBeaten))"
      ],
      "execution_count": 0,
      "outputs": []
    },
    {
      "cell_type": "code",
      "metadata": {
        "id": "Ii_f4HpuWJ2i",
        "colab_type": "code",
        "colab": {}
      },
      "source": [
        "def compare_models(RMSPE_IMA, RMSPE_us):\n",
        "  assert RMSPE_IMA.size == RMSPE_us.size, 'Size mismatch RMSPE arrays'\n",
        "  beaten = np.zeros(RMSPE_us.size)\n",
        "  for i in range(RMSPE_IMA.size):\n",
        "    if (RMSPE_us[i] < RMSPE_IMA[i]):\n",
        "      beaten[i] = 1\n",
        "  return np.sum(beaten), beaten"
      ],
      "execution_count": 0,
      "outputs": []
    },
    {
      "cell_type": "code",
      "metadata": {
        "id": "O9lZZZWAWsEO",
        "colab_type": "code",
        "colab": {}
      },
      "source": [
        "def exportResults(RMSPE_IMA, RMSPE_model, beaten):\n",
        "  export = pd.DataFrame()\n",
        "\n",
        "  # averages over sim_runs = 100, N countries\n",
        "  export['RMSPE IMA'] = RMSPE_IMA\n",
        "  export['RMSPE model'] = RMSPE_model\n",
        "  export['beaten'] = beaten\n",
        "  export['DGP Specification'] = None\n",
        "\n",
        "  export.to_csv('Simulation Results.csv')\n",
        "  print('File is exported')"
      ],
      "execution_count": 0,
      "outputs": []
    },
    {
      "cell_type": "code",
      "metadata": {
        "id": "UlM8PW1Nlvmj",
        "colab_type": "code",
        "colab": {
          "base_uri": "https://localhost:8080/",
          "height": 35
        },
        "outputId": "f859e4d1-2b75-4ea7-c33b-00226246d667"
      },
      "source": [
        "test2 = [ 0, 1, 2, 3]\n",
        "np.array(test>test2)"
      ],
      "execution_count": 45,
      "outputs": [
        {
          "output_type": "execute_result",
          "data": {
            "text/plain": [
              "array(True)"
            ]
          },
          "metadata": {
            "tags": []
          },
          "execution_count": 45
        }
      ]
    },
    {
      "cell_type": "markdown",
      "metadata": {
        "id": "pjEf1_dqZM2z",
        "colab_type": "text"
      },
      "source": [
        "# Benchmark model"
      ]
    },
    {
      "cell_type": "code",
      "metadata": {
        "id": "tR1TngcmVblT",
        "colab_type": "code",
        "colab": {}
      },
      "source": [
        "def recursive_estimation(i, T1, T2, steps_ahead=1):\n",
        "  for j in range(T2):\n",
        "    train_data = Y[i][:(T1+j)]\n",
        "    model_IMA = ARIMA(train_data, order=(0, 1, 1))\n",
        "    results = IMA_model.fit(trend='nc')\n",
        "\n",
        "    fc = IMA_model.predict(Y[i][T1+j+1])\n",
        "    forecasts.append(fc)\n",
        "    \n",
        "    RMSPE = np.sqrt(np.mean(np.square(((Y[i][T-T2:] - forecasts) / Y[i][T-T2])), axis=0))\n",
        "  return RMSPE"
      ],
      "execution_count": 0,
      "outputs": []
    },
    {
      "cell_type": "code",
      "metadata": {
        "id": "abfGYBteVvJP",
        "colab_type": "code",
        "colab": {}
      },
      "source": [
        "# TO-DO make return RMSPE instead of MSE\n",
        "\n",
        "from sklearn.metrics import mean_squared_error\n",
        "def baseline(i):\n",
        "  \"function to estimate IMA using rolling window, returns MSPE\"  \n",
        "  train, test = T1[i], T2[i]\n",
        "  history = [x for x in train]\n",
        "  predictions = list()\n",
        "  for t in range(len(test)):\n",
        "    model = ARIMA(history, order=(0,1,1))\n",
        "    model_fit = model.fit(disp=0)\n",
        "    output = model_fit.forecast()\n",
        "    yhat = output[0]\n",
        "    predictions.append(yhat)\n",
        "    obs = test[t]\n",
        "    history.append(obs)\n",
        "    print('predicted=%f, expected=%f' % (yhat, obs))\n",
        "  MSE = mean_squared_error(test, predictions)\n",
        "  return MSE"
      ],
      "execution_count": 0,
      "outputs": []
    }
  ]
}