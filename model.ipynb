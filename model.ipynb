{
  "nbformat": 4,
  "nbformat_minor": 0,
  "metadata": {
    "colab": {
      "name": "model.ipynb",
      "provenance": [],
      "authorship_tag": "ABX9TyOsTeuyUkR4SmM0Q/vL6upU",
      "include_colab_link": true
    },
    "kernelspec": {
      "name": "python3",
      "display_name": "Python 3"
    }
  },
  "cells": [
    {
      "cell_type": "markdown",
      "metadata": {
        "id": "view-in-github",
        "colab_type": "text"
      },
      "source": [
        "<a href=\"https://colab.research.google.com/github/Evavanrooijen/AfricanGDP/blob/master/model.ipynb\" target=\"_parent\"><img src=\"https://colab.research.google.com/assets/colab-badge.svg\" alt=\"Open In Colab\"/></a>"
      ]
    },
    {
      "cell_type": "code",
      "metadata": {
        "id": "B0Rmb06JRvl6",
        "colab_type": "code",
        "colab": {}
      },
      "source": [
        "import time"
      ],
      "execution_count": 0,
      "outputs": []
    },
    {
      "cell_type": "code",
      "metadata": {
        "id": "QfRpftb7RA7z",
        "colab_type": "code",
        "colab": {}
      },
      "source": [
        "def CRDW(Y, i, tao=0.4):\n",
        "  \"\"\"This function tests for cointegration\n",
        "      Args:\n",
        "        i (int): index of the country we are modeling\n",
        "        tao (float): critical value (default = 0.4)\n",
        "\n",
        "      Returns:\n",
        "        JH (array): An array with the regressors (incl. self)\n",
        "\n",
        "  \"\"\"\n",
        "  N, T = Y.shape\n",
        "  JH=Y[i][1:]\n",
        "  for j in range(N):\n",
        "      if j!=i:\n",
        "        y = Y[i]\n",
        "        x = Y[j]\n",
        "        x = sm.add_constant(x)\n",
        "\n",
        "        model = sm.OLS(y, x)\n",
        "        results = model.fit()\n",
        "        CRDW_j = stats.stattools.durbin_watson(results.resid)\n",
        "        if CRDW_j > tao:\n",
        "          JH = np.vstack((JH, Y[j][1:]))\n",
        "  assert JH.shape[0]>0 # test if JH contains atleast self\n",
        "  \n",
        "  return JH"
      ],
      "execution_count": 0,
      "outputs": []
    },
    {
      "cell_type": "code",
      "metadata": {
        "id": "FbBcuoXuRFIY",
        "colab_type": "code",
        "colab": {}
      },
      "source": [
        "def max_min_correlations(Y, i, kn=4, kp=4):\n",
        "    \"\"\"Feature selection based on pairwise correlation\n",
        "    Args:\n",
        "        Y_growth (array): matrix of levels (Y_growth)\n",
        "        i (int): index of the country we are modeling\n",
        "        tao (float): critical value (default = 0.4)\n",
        "\n",
        "    Returns:\n",
        "        JH (array): An array with the regressors (incl. self)\n",
        "\n",
        "    \"\"\"\n",
        "    N, T = Y.shape\n",
        "    Y_growth = np.vstack([growth_rate(row) for row in Y])\n",
        "    assert round(np.mean(Y_growth)) == (alpha+1)/2\n",
        "\n",
        "    corr_i = np.zeros(N)\n",
        "    for j in range(N):\n",
        "      corr_i[j] = pearsonr(Y_growth[i], Y_growth[j])[0]\n",
        "    \n",
        "    pos = Y_growth[np.argpartition(corr_i, -(kp+1))[-(kp+1):-1]]\n",
        "    #pos = Y_growth[corr_i.argsort()[(kp+1):-1]]\n",
        "    assert pos.shape == (kp, T-1)\n",
        "    neg = Y_growth[corr_i.argsort()[:kn]]\n",
        "    assert neg.shape == (kn, T-1)\n",
        "    #neg = Y_growth[np.argpartition(correlation(7), -5)[-5:-1]]\n",
        "    return pos, neg"
      ],
      "execution_count": 0,
      "outputs": []
    },
    {
      "cell_type": "code",
      "metadata": {
        "id": "RCbu-M70RIxT",
        "colab_type": "code",
        "colab": {}
      },
      "source": [
        "def define_parameters(Y, i):\n",
        "  JH = CRDW(Y, i)\n",
        "  pos, neg = max_min_correlations(Y, i)\n",
        "\n",
        "  params = Parameters()\n",
        "  rank = JH.shape[0]\n",
        "  for r in range(1, rank):\n",
        "    params.add('beta'+str(r), value = np.random.normal(-1, 1), max=0)\n",
        "\n",
        "  params.add('mu', value = np.random.normal(0, 1))\n",
        "  params.add('alpha_self', value = np.random.normal(0, 1))\n",
        "  params.add('alpha_pos', value = np.random.normal(0, 1))\n",
        "  params.add('alpha_neg', value = np.random.normal(0, 1))\n",
        "  params.add('theta_pos', value = np.random.normal(0, 1))\n",
        "  params.add('theta_neg', value = np.random.normal(0, 1))\n",
        "  params.add('gamma', value = np.random.normal(0, 1))\n",
        "\n",
        "  params.pretty_print()\n",
        "  \n",
        "  return JH, pos, neg, params, rank"
      ],
      "execution_count": 0,
      "outputs": []
    },
    {
      "cell_type": "code",
      "metadata": {
        "id": "e86kE3mxRKT4",
        "colab_type": "code",
        "colab": {}
      },
      "source": [
        "# still depending on i\n",
        "\n",
        "def residual(params, pos, neg, JH, rank):\n",
        "  # rank = JH.shape[0] # test if this works when rank = 1 NOPE\n",
        "\n",
        "  mu = params['mu']\n",
        "  alpha_self = params['alpha_self']\n",
        "  alpha_pos = params['alpha_pos']\n",
        "  alpha_neg = params['alpha_neg']\n",
        "  theta_pos = params['theta_pos']\n",
        "  theta_neg = params['theta_neg']\n",
        "  gamma = params['gamma']\n",
        "\n",
        "  beta = np.ones(rank)\n",
        "  for r in range(1, rank):\n",
        "    beta[r] = params['beta'+str(r)]\n",
        "\n",
        "  assert beta[0] == 1\n",
        "  #assert np.sum(beta>0) == 1\n",
        "  assert beta.size == rank\n",
        "      \n",
        "  alpha_i_j_p = np.array([alpha_pos, alpha_pos*theta_pos, alpha_pos*(theta_pos**2), alpha_pos*(theta_pos**3)])\n",
        "  alpha_i_j_n = np.array([alpha_neg, alpha_neg*theta_neg, alpha_neg*(theta_neg**2), alpha_neg*(theta_neg**3)])\n",
        "  \n",
        "  assert alpha_i_j_p.size == 4\n",
        "  assert alpha_i_j_n.size == 4\n",
        "\n",
        "  # TO-DO growth rate t-1, alpha_self ??\n",
        "  # correlation = alpha_self * growth_rate(Y) + alpha_i_j_n.dot(neg) + alpha_i_j_p.dot(pos)\n",
        "  correlation = alpha_i_j_n.dot(neg) + alpha_i_j_p.dot(pos)\n",
        "\n",
        "  cointegration = gamma * (beta.dot(JH))\n",
        "\n",
        "  model = cointegration + correlation + mu\n",
        "\n",
        "  return growth_rate(Y[3]) - model"
      ],
      "execution_count": 0,
      "outputs": []
    },
    {
      "cell_type": "code",
      "metadata": {
        "id": "kYjBKrMVcYwH",
        "colab_type": "code",
        "colab": {}
      },
      "source": [
        "def function(pos, neg, JH, gamma, beta, mu):\n",
        "  rank = JH.shape[0] # test if this works when rank = 1 NOPE\n",
        "\n",
        "  beta = np.ones(rank)\n",
        "  for r in range(1, rank):\n",
        "    beta[r] = params['beta'+str(r)]\n",
        "\n",
        "  assert beta[0] == 1\n",
        "  assert np.sum(beta>0) == 1\n",
        "  assert beta.size == rank\n",
        "      \n",
        "  alpha_i_j_p = np.ones(4)\n",
        "  alpha_i_j_n = np.ones(4)\n",
        "  \n",
        "  assert alpha_i_j_p.size == 4\n",
        "  assert alpha_i_j_n.size == 4\n",
        "\n",
        "  # TO-DO growth rate t-1, alpha_self ??\n",
        "  # correlation = alpha_self * growth_rate(Y) + alpha_i_j_n.dot(neg) + alpha_i_j_p.dot(pos)\n",
        "  correlation = alpha_i_j_n.dot(neg) + alpha_i_j_p.dot(pos)\n",
        "\n",
        "  cointegration = gamma * (beta.dot(JH))\n",
        "\n",
        "  return cointegration + correlation + mu"
      ],
      "execution_count": 0,
      "outputs": []
    },
    {
      "cell_type": "code",
      "metadata": {
        "id": "MU2Y6tb4RNSH",
        "colab_type": "code",
        "colab": {}
      },
      "source": [
        "# should return scalara value t+1\n",
        "\n",
        "def fit_and_predict(JH, pos, neg, params, rank):\n",
        "  start = time.time()\n",
        "  out = minimize(residual, params, args=(pos, neg, JH), method='leastsq', maxfev=1000000)\n",
        "  print(out.message)\n",
        "  print('Estimation took: {} seconds'.format(time.time() - start))\n",
        "\n",
        "  mu_hat = out.params['mu'].value\n",
        "  gamma_hat = out.params['gamma'].value\n",
        "  output = function(pos, neg, JH, mu_hat, [1, -0.4, -0.2], 0.9)\n",
        "\n",
        "  beta = np.ones(rank)\n",
        "  for r in range(1, rank):\n",
        "    beta[r] = out.params['beta'+str(r)].value\n",
        "\n",
        "  assert beta.size == rank\n",
        "  assert beta[0] == 1\n",
        "  assert np.sum(beta > 0) == 1\n",
        "\n",
        "  prediction = function(pos, neg, JH, mu_hat, beta, gamma_hat)\n",
        "  \n",
        "  return prediction"
      ],
      "execution_count": 0,
      "outputs": []
    },
    {
      "cell_type": "code",
      "metadata": {
        "id": "odyg-KhZRund",
        "colab_type": "code",
        "colab": {}
      },
      "source": [
        "def predict():\n",
        "  return function(pos, neg, JH, mu_hat, beta, gamma_hat)"
      ],
      "execution_count": 0,
      "outputs": []
    },
    {
      "cell_type": "code",
      "metadata": {
        "id": "9Go1qzDsRQLn",
        "colab_type": "code",
        "colab": {}
      },
      "source": [
        "def RMSPE(pred, truth):\n",
        "  return \n"
      ],
      "execution_count": 0,
      "outputs": []
    }
  ]
}